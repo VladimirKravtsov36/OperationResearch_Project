{
 "cells": [
  {
   "cell_type": "code",
   "execution_count": 6,
   "id": "ef65148b-4bb3-41f3-ad27-0f4aa876e620",
   "metadata": {},
   "outputs": [],
   "source": [
    "import glob\n",
    "import os"
   ]
  },
  {
   "cell_type": "code",
   "execution_count": 26,
   "id": "e2fda212-330d-4e87-a344-bb606904020d",
   "metadata": {},
   "outputs": [],
   "source": [
    "test_files = glob.glob('test_files/*.txt')\n",
    "test_files.sort()\n",
    "\n",
    "for file in test_files:\n",
    "    os.system(f'python3 AntColonycode.py {file} >>output_ants.txt')\n",
    "    os.system(f'python3 BrunchesAndBounds.py {file} >>output_brunches.txt')"
   ]
  },
  {
   "cell_type": "code",
   "execution_count": null,
   "id": "6eaacc51-0993-4538-9b61-1df827665c66",
   "metadata": {},
   "outputs": [],
   "source": []
  }
 ],
 "metadata": {
  "kernelspec": {
   "display_name": "Python 3 (ipykernel)",
   "language": "python",
   "name": "python3"
  },
  "language_info": {
   "codemirror_mode": {
    "name": "ipython",
    "version": 3
   },
   "file_extension": ".py",
   "mimetype": "text/x-python",
   "name": "python",
   "nbconvert_exporter": "python",
   "pygments_lexer": "ipython3",
   "version": "3.8.10"
  }
 },
 "nbformat": 4,
 "nbformat_minor": 5
}
