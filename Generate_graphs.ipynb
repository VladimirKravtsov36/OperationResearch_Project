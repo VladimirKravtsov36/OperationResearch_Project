{
 "cells": [
  {
   "cell_type": "code",
   "execution_count": 16,
   "id": "2a0dfb5a-0a39-4044-9c3f-65eb6ca9ce88",
   "metadata": {},
   "outputs": [],
   "source": [
    "from random import randint\n",
    "import numpy as np"
   ]
  },
  {
   "cell_type": "code",
   "execution_count": 17,
   "id": "681f0517-07af-4295-ae4e-958df4533840",
   "metadata": {},
   "outputs": [],
   "source": [
    "for i in range(10):\n",
    "    n = randint(3, 10)\n",
    "    matr = np.zeros((n,n))\n",
    "    for j in range(n):\n",
    "        for k in range(n):\n",
    "            if j!=k:\n",
    "                matr[j][k] = randint(5, 50)\n",
    "                np.savetxt(f'test_graph_{i}.txt', matr, fmt='%d')"
   ]
  },
  {
   "cell_type": "code",
   "execution_count": null,
   "id": "81dd8594-35ff-4a71-8d38-08f810cb46ce",
   "metadata": {},
   "outputs": [],
   "source": []
  }
 ],
 "metadata": {
  "kernelspec": {
   "display_name": "Python 3 (ipykernel)",
   "language": "python",
   "name": "python3"
  },
  "language_info": {
   "codemirror_mode": {
    "name": "ipython",
    "version": 3
   },
   "file_extension": ".py",
   "mimetype": "text/x-python",
   "name": "python",
   "nbconvert_exporter": "python",
   "pygments_lexer": "ipython3",
   "version": "3.8.10"
  }
 },
 "nbformat": 4,
 "nbformat_minor": 5
}
